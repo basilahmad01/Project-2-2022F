{
 "cells": [
  {
   "cell_type": "markdown",
   "id": "45c7e588",
   "metadata": {},
   "source": [
    "# Project 2: Sequence Alignment and Phylogeny"
   ]
  },
  {
   "cell_type": "markdown",
   "id": "fc31a72e",
   "metadata": {},
   "source": [
    "\n",
    "   <div class=\"alert alert-block alert-danger\">\n",
    "    <center>Due: <b>Wednesday, 21 September, 8:59pm</b>.</center> \n",
    "   </div>\n",
    "   \n",
    "   <div class=\"alert alert-block alert-warning\">\n",
    "   <center>\n",
    "       <b>Collaboration and Resource Policy</b>\n",
    "    </center>\n",
    "    For this assignment, you are encouraged to work with one other person. Your team must satisfy these constraints:\n",
    "    \n",
    "   1. You **did not work together on Project 1**.\n",
    "   2. You and your partner have a **total number of siblings that is divisible by two** (e.g., if you have one sibling, you need to find a partner with 1, 3, 5, or 7 siblings. If anyone has more than 7 siblings, they can partner with anyone!)\n",
    "    \n",
    "We expect most students will have the best learning experience on this assignment by working with a partner, but if you prefer to work alone it is permissible to do this assignment on your own.\n",
    "    \n",
    "You are encouraged to discuss these problems with anyone you want, including other students in the class. If you do discuss the specific questions in the assignment with anyone other than your assignment partner and the course staff, though, you should list them in the _External resources used_ section below.\n",
    "    \n",
    "You are welcome to use any resources you want for this assignment, other than ones that would defeat the purpose of the assignment. This means you should not look at answers or code from any other students in the class (other than your collaboration with your partner) or from previous offerings of this course, and if you find code that implements the problem you are being asked to do for the assignment, you should not use that code. \n",
    "\n",
    "You should document all external resource you use that are not part of the course materials in the _External resources used_ section below.\n",
    "    </div>"
   ]
  },
  {
   "cell_type": "markdown",
   "id": "d3c343bd",
   "metadata": {},
   "source": [
    "**Team submitting this assignment:**  \n",
    "<div class=\"alert alert-success\">\n",
    "    <b><em>list each member of your team here, including both your name and UVA computing id</em></b>\n",
    "</div>\n",
    "\n",
    "**External resources used:** \n",
    "<div class=\"alert alert-success\">\n",
    "<em>It is not necessary to list the course materials, but if you used any other resources, including discussing problems with students not on your team, list them here.</em>\n",
    "</div>"
   ]
  },
  {
   "cell_type": "markdown",
   "id": "92ad0d28",
   "metadata": {},
   "source": [
    " <div class=\"alert alert-block alert-warning\">\n",
    "    \n",
    "<b>Submission</b>: Please submit the code you wrote to generate your answers for all parts using this form: https://forms.gle/gv144kv3KRo67uUX7. Your answers should be in the Jupyter Notebook, along with your code. Before submission, you should make a copy of your notebook file with the name uvaid1\\_uvaid2.ipynb (where uvaidn is each teammates UVA id) so the submitted file identifies you. You and your partner should submit a single file once together. Submission is due 8:59 pm on Wednesday, 21 September."
   ]
  },
  {
   "cell_type": "markdown",
   "id": "c27041a5",
   "metadata": {},
   "source": [
    "## Getting Started"
   ]
  },
  {
   "cell_type": "markdown",
   "id": "f57c01e4",
   "metadata": {},
   "source": [
    "Install basic required packages, should be run only once. You may need to restart the jupyter python kernel (under the Kernel menu) after this. (You can execute this directly in the notebook but running the command below.)"
   ]
  },
  {
   "cell_type": "code",
   "execution_count": 3,
   "id": "23b5af1a",
   "metadata": {},
   "outputs": [
    {
     "name": "stdout",
     "output_type": "stream",
     "text": [
      "Collecting git+https://github.com/iamgroot42/blosum.git (from -r requirements.txt (line 1))Note: you may need to restart the kernel to use updated packages.\n",
      "\n",
      "  Cloning https://github.com/iamgroot42/blosum.git to c:\\users\\basil\\appdata\\local\\temp\\pip-req-build-dcu2ufpq\n",
      "  Resolved https://github.com/iamgroot42/blosum.git to commit 433ed2f1b55fa010ad1b4b2a84158c1f38ddeaf6\n",
      "  Installing build dependencies: started\n",
      "  Installing build dependencies: finished with status 'done'\n",
      "  Getting requirements to build wheel: started\n",
      "  Getting requirements to build wheel: finished with status 'done'\n",
      "  Preparing metadata (pyproject.toml): started\n",
      "  Preparing metadata (pyproject.toml): finished with status 'done'\n",
      "Requirement already satisfied: biopython in c:\\users\\basil\\proj1\\project-1-2022f\\venv\\lib\\site-packages (from -r requirements.txt (line 2)) (1.79)\n",
      "Requirement already satisfied: tqdm in c:\\users\\basil\\proj1\\project-1-2022f\\venv\\lib\\site-packages (from -r requirements.txt (line 3)) (4.64.0)\n",
      "Requirement already satisfied: networkx in c:\\users\\basil\\proj1\\project-1-2022f\\venv\\lib\\site-packages (from -r requirements.txt (line 4)) (2.8.6)\n",
      "Requirement already satisfied: pokemons in c:\\users\\basil\\proj1\\project-1-2022f\\venv\\lib\\site-packages (from -r requirements.txt (line 5)) (1.0.3)\n",
      "Requirement already satisfied: numpy in c:\\users\\basil\\proj1\\project-1-2022f\\venv\\lib\\site-packages (from biopython->-r requirements.txt (line 2)) (1.23.2)\n",
      "Requirement already satisfied: colorama in c:\\users\\basil\\proj1\\project-1-2022f\\venv\\lib\\site-packages (from tqdm->-r requirements.txt (line 3)) (0.4.5)\n"
     ]
    },
    {
     "name": "stderr",
     "output_type": "stream",
     "text": [
      "  Running command git clone --filter=blob:none --quiet https://github.com/iamgroot42/blosum.git 'C:\\Users\\basil\\AppData\\Local\\Temp\\pip-req-build-dcu2ufpq'\n"
     ]
    }
   ],
   "source": [
    "%pip install -r requirements.txt"
   ]
  },
  {
   "cell_type": "code",
   "execution_count": 4,
   "id": "0dd50ab5",
   "metadata": {},
   "outputs": [],
   "source": [
    "import numpy as np\n",
    "import blosum as bl\n",
    "import networkx as nx\n",
    "import matplotlib.pyplot as plt\n",
    "import utils\n",
    "from itertools import chain"
   ]
  },
  {
   "cell_type": "markdown",
   "id": "6686b729",
   "metadata": {},
   "source": [
    "## Part 1: Global Sequence Alignment"
   ]
  },
  {
   "cell_type": "markdown",
   "id": "d58d1d20",
   "metadata": {},
   "source": [
    "Below we provide the sequence alignment code from [Class 6](https://computingbiology.github.io/class6/). You are welcome to use and modify this code however you want in your solution, but should answer the questions below based on this provided code."
   ]
  },
  {
   "cell_type": "code",
   "execution_count": 3,
   "id": "2f99cda7",
   "metadata": {},
   "outputs": [],
   "source": [
    "def simpleMatch(a, b):\n",
    "    return 1 if a == b else -1\n",
    "\n",
    "def distanceMatch(a, b):\n",
    "    return 0 if a == b else -1\n",
    "\n",
    "def linearGap(n):\n",
    "    return -1 * n\n",
    "\n",
    "def alignmentScore(s1, s2, gapPenalty, match):\n",
    "    if not s1 or not s2:\n",
    "        return gapPenalty(len(s1)) + gapPenalty(len(s2))\n",
    "    else:\n",
    "        return max(gapPenalty(1) + alignmentScore(s1, s2[1:], gapPenalty, match), \n",
    "                   gapPenalty(1) + alignmentScore(s1[1:], s2, gapPenalty, match),\n",
    "                   match(s1[0], s2[0]) + alignmentScore(s1[1:], s2[1:], gapPenalty, match)) "
   ]
  },
  {
   "cell_type": "code",
   "execution_count": 4,
   "id": "64e297fa",
   "metadata": {},
   "outputs": [],
   "source": [
    "def alignmentScoreDP(s1, s2, gapPenalty, match):\n",
    "    m = np.zeros((len(s1) + 1, len(s2) + 1))\n",
    "    m[0, 0] = 0\n",
    "    for i in range(1, len(s1) + 1):\n",
    "        m[i, 0] = gapPenalty(i)\n",
    "    for j in range(1, len(s2) + 1):\n",
    "        m[0, j] = gapPenalty(j)\n",
    "    for i in range(1, len(s1) + 1):\n",
    "        for j in range(1, len(s2) + 1):\n",
    "            m[i, j] = max(gapPenalty(1) + m[i, j - 1],  \n",
    "                          gapPenalty(1) + m[i - 1, j],    \n",
    "                          match(s1[i - 1], s2[j - 1]) + m[i - 1, j - 1]) \n",
    "    return m\n",
    "    \n",
    "def readAlignment(s1, s2, m, gapPenalty, match):\n",
    "    i = len(s1)\n",
    "    j = len(s2)\n",
    "    s1a = \"\"\n",
    "    s2a = \"\" \n",
    "    score = 0\n",
    "    while i > 0 or j > 0:\n",
    "        if i > 0 and j > 0 and m[i, j] == m[i - 1, j - 1] + match(s1[i - 1], s2[j - 1]):\n",
    "            i = i - 1\n",
    "            j = j - 1\n",
    "            score += match(s1[i], s2[j])\n",
    "            s1a = s1[i] + s1a\n",
    "            if s1[i] == s2[j]:\n",
    "                s2a = s2[j] + s2a\n",
    "            else:\n",
    "                s2a = s2[j].lower() + s2a\n",
    "        elif i > 0 and m[i, j] == m[i - 1, j] + gapPenalty(1):\n",
    "            i = i - 1\n",
    "            score += gapPenalty(1)\n",
    "            s1a = s1[i] + s1a\n",
    "            s2a = '-' + s2a\n",
    "        elif j > 0 and m[i, j] == m[i, j - 1] + gapPenalty(1):\n",
    "            j = j - 1\n",
    "            score += gapPenalty(1)\n",
    "            s1a = '-' + s1a\n",
    "            s2a = s2[j] + s2a\n",
    "        else:\n",
    "            assert False\n",
    "    return (s1a, s2a, score)\n",
    "\n",
    "def showAlignment(s1, s2, gapPenalty, match):\n",
    "    m = alignmentScoreDP(s1, s2, gapPenalty, match)\n",
    "    r = readAlignment(s1, s2, m, gapPenalty, match)\n",
    "    print (r[0] + \"\\n\" + r[1] + \"\\n\" + str(r[2]))\n",
    "    return (m, r)"
   ]
  },
  {
   "cell_type": "code",
   "execution_count": 5,
   "id": "9f270add",
   "metadata": {},
   "outputs": [
    {
     "name": "stdout",
     "output_type": "stream",
     "text": [
      "G-ATT\n",
      "GCA-T\n",
      "1\n"
     ]
    }
   ],
   "source": [
    "# Example\n",
    "r = showAlignment(\"GATT\", \"GCAT\", linearGap, simpleMatch)"
   ]
  },
  {
   "cell_type": "markdown",
   "id": "e4398159",
   "metadata": {},
   "source": [
    "Here's the version that supports affine gap penalties (from Class 6):"
   ]
  },
  {
   "cell_type": "code",
   "execution_count": 6,
   "id": "4891bf36",
   "metadata": {},
   "outputs": [],
   "source": [
    "def alignmentScoreDPG(s1, s2, gapPenalty, match):\n",
    "    m = np.zeros((len(s1) + 1, len(s2) + 1))\n",
    "    m[0, 0] = 0\n",
    "    for i in range(1, len(s1) + 1):\n",
    "        m[i, 0] = gapPenalty(i)\n",
    "    for j in range(1, len(s2) + 1):\n",
    "        m[0, j] = gapPenalty(j)\n",
    "    for i in range(1, len(s1) + 1):\n",
    "        for j in range(1, len(s2) + 1):         \n",
    "            m[i, j] = max(chain((gapPenalty(g) + m[i, j - g] for g in range(1, j + 1)),\n",
    "                                (gapPenalty(g) + m[i - g, j] for g in range(1, i + 1)),   \n",
    "                                [(match(s1[i - 1], s2[j - 1]) + m[i - 1, j - 1])]))\n",
    "    return m\n",
    "    \n",
    "def readAlignmentG(s1, s2, m, gapPenalty, match):\n",
    "    i = len(s1)\n",
    "    j = len(s2)\n",
    "    s1a = \"\"\n",
    "    s2a = \"\"\n",
    "    score = 0\n",
    "    while i > 0 or j > 0:\n",
    "        if i > 0 and j > 0 and m[i, j] == m[i - 1, j - 1] + match(s1[i - 1], s2[j - 1]):\n",
    "            i = i - 1\n",
    "            j = j - 1\n",
    "            s1a = s1[i] + s1a\n",
    "            s2a = (s2[j] if s1[i] == s2[j] else s2[j].lower()) + s2a\n",
    "            score += match(s1[i], s2[j])\n",
    "        else:\n",
    "            foundit = False\n",
    "            for g in range(1, i + 1):\n",
    "                if m[i, j] == m[i - g, j] + gapPenalty(g):\n",
    "                    s1a = s1[i - g:i] + s1a\n",
    "                    s2a = ('-' * g) + s2a\n",
    "                    i = i - g\n",
    "                    score += gapPenalty(g)\n",
    "                    foundit = True\n",
    "                    break\n",
    "            if not foundit:\n",
    "                for g in range(1, j + 1):\n",
    "                    if m[i, j] == m[i, j - g] + gapPenalty(g):\n",
    "                        s1a = ('-' * g) + s1a\n",
    "                        s2a = s2[j - g:j] + s2a\n",
    "                        j = j - g\n",
    "                        score += gapPenalty(g)\n",
    "                        foundit = True\n",
    "                        break\n",
    "            assert foundit\n",
    "    return (s1a, s2a, score)\n",
    "\n",
    "def showAlignmentG(s1, s2, gapPenalty, match):\n",
    "    m = alignmentScoreDPG(s1, s2, gapPenalty, match)\n",
    "    r = readAlignmentG(s1, s2, m, gapPenalty, match)\n",
    "    print (r[0] + \"\\n\" + r[1] + \"\\n\" + str(r[2]))\n",
    "    return (m, r)"
   ]
  },
  {
   "cell_type": "code",
   "execution_count": 7,
   "id": "82defbef",
   "metadata": {},
   "outputs": [],
   "source": [
    "def affineGap(n, gp = -1, gn = -0.2):\n",
    "    return gp + (n - 1) * gn"
   ]
  },
  {
   "cell_type": "code",
   "execution_count": 8,
   "id": "672abd70",
   "metadata": {},
   "outputs": [
    {
     "name": "stdout",
     "output_type": "stream",
     "text": [
      "AAAGAATTCA\n",
      "AAA----TCA\n",
      "4.4\n"
     ]
    }
   ],
   "source": [
    "# Example\n",
    "s1 = \"AAAGAATTCA\"\n",
    "s2 = \"AAATCA\"\n",
    "r = showAlignmentG(s1, s2, affineGap, simpleMatch)"
   ]
  },
  {
   "cell_type": "markdown",
   "id": "3c35d23b",
   "metadata": {},
   "source": [
    "<div class=\"alert alert-success\">\n",
    "\n",
    "**Problem 1 (a).** Run the given algorithm to find a global sequence alignment for the OCA2 genes (a key gene for the production of melanin) for humans and mice with the following gap penalties (still using simpleMatch as the match score function):\n",
    "\n",
    "  a. `linearGap` penalty\n",
    "    \n",
    "  b. `affineGap` penalty, with $gp=-0.2$\n",
    "\n",
    "  c. `affineGap` penalty, with $gp=-0.1$\n",
    "    \n",
    "</div>\n"
   ]
  },
  {
   "cell_type": "code",
   "execution_count": 9,
   "id": "2e60c9be",
   "metadata": {},
   "outputs": [],
   "source": [
    "human_oca2, mouse_oca2 = utils.load_oca2_sequences()"
   ]
  },
  {
   "cell_type": "code",
   "execution_count": 10,
   "id": "6d865567",
   "metadata": {},
   "outputs": [
    {
     "name": "stdout",
     "output_type": "stream",
     "text": [
      "-GTTCT--TACTTCGAAG-GCTGTGCTCCG----CTCACCATCCAGAGCGGAGGTGCGGACC-T-TA-AACTCA-CTCC--TGGA----GA-A--AGATCTGCAAGTGC-GCAGAGAGAAGACTGGCAGTGGAGCATGCATCTGGAGGGCAGAGACGGC-A-GGCGGTACCCCGGCGCGCCGGCG-GTGGAGCTCCTGCAGACGTCCGTGCC-CAGCGGACTCGCT-GAACTTGTGGC--CGGCA-AGC\n",
      "CccTCTGGggCTgC-AAGTGC-cTGCTgaGAAATCTtA-CA-CC--AG-GGttGTGC--tCCATCcACgACTCAGagCCTTTGGATCTGGACACTAGA-CTtC-AcTGCTG--GAGAG-AGA-T--CAG-cGAG--T-CATC---A-GaCAGA-tCaGCAACGG-GG-A--CatGCGC-CtaGaGAacaaAG-aCaT-CAG--G-CtG-GCCTCAGCcG--T-GCTGGAAgTaG-aGCTACacCAGA-C\n",
      "25\n",
      "---------G-T-----T-C-T--T---A---CTT-CGA--A-GG-CTGTGCTCC--GCTCAC--CATCCAGAG-C---GGAGGTGC-GGAC-CTTAA-AC-TCACT-CCTGGAGA-AAGATC-TGC-AAGTGC--GCAGA-GAGA--AG--ACTGGCAGTGGAGCAT--GCATCT-G-G-AGGGC-AGAGAC--GGCAGGC-GGTACCC-C-GGCGCG-CCGGCGGTGG-AGCTCCTGCAGACGTCCGTGCCCAGCGGACTCGCTGAACTTGTGGCCGGCAAGC\n",
      "CCCTCTGGGGCTGCAAGTGCCTGCTGAGAAATCTTAC-ACCAGGGT-TGTGCTCCAT-C-CACGAC-T-CAGAGCCTTTGGA--T-CTGGACACT--AGACTTCACTG-CTGGAGAG-AGATCA-GCG-AGT-CAT-CAGAC-AGATCAGCAAC-G---G-GGA-CATGCGC--CTAGAGAA---CAA-AGACAT--CAGGCTGG---CCTCA-GC-CGT---GC--TGGAAG----T--AGA-G--C-T----A-C--AC---C---A---------G---A-C\n",
      "112.1999999999998\n",
      "------G----T-----T--CT--T-A-----CTT-CGA--A-GG-CTGTGCTCC--GCTCAC--CATCCAGAG-C---GGAGGTGC-GGAC-CTTA-AAC-TCACT-CCTGGAGA-AAGATC-TGC-AAGTGC--GCAGA-GAGA--AG--ACTGGCAGTGGAGCAT--GCATCT-G-G-AGGGC-AGAGAC--GGCAGGC-GGTACC-C-CGGCGCG-CCGGCGGTGG-AGCTCCTGCAGACGTCCGTGCCCAGCGGACTCGCTGAACTTGTGGCCGGCAAGC\n",
      "CCCTCTGGGGCTGCAAGTGCCTGCTGAGAAATCTTAC-ACCAGGGT-TGTGCTCCAT-C-CACGAC-T-CAGAGCCTTTGGA--T-CTGGACAC-TAG-ACTTCACTG-CTGGAGAG-AGATCA-GCG-AGT-CAT-CAGAC-AGATCAGCAAC--G--G-GGA-CATGCGC--CTAGAGAA---CAA-AGACAT--CAGGCTGG--CCTCA--GC-CGT---GC--TGGAAG----T--AGA-G--C-T----A-C--A--C-C---A----------G--A-C\n",
      "126.10000000000025\n"
     ]
    }
   ],
   "source": [
    "# Your code here\n",
    "linG = showAlignment(human_oca2, mouse_oca2, linearGap, simpleMatch)\n",
    "def affineGap2(n, gp = -0.2, gn = -0.2):\n",
    "    return gp + (n - 1) * gn\n",
    "affG_2 = showAlignmentG(human_oca2, mouse_oca2, affineGap2, simpleMatch)\n",
    "def affineGap3(n, gp = -0.1, gn = -0.2):\n",
    "    return gp + (n - 1) * gn\n",
    "affG_1 = showAlignmentG(human_oca2, mouse_oca2, affineGap3, simpleMatch)"
   ]
  },
  {
   "cell_type": "markdown",
   "id": "11bce9cd",
   "metadata": {},
   "source": [
    "<div class=\"alert alert-success\">\n",
    "\n",
    "**Problem 1 (b).** Use the given function to convert these sequences to their amino-acid sequences, and then re-run alignment for all sequences with the default parameters for `affineGap`.\n",
    "</div>\n"
   ]
  },
  {
   "cell_type": "code",
   "execution_count": 11,
   "id": "025724a1",
   "metadata": {},
   "outputs": [
    {
     "data": {
      "text/plain": [
       "'KCGV'"
      ]
     },
     "execution_count": 11,
     "metadata": {},
     "output_type": "execute_result"
    }
   ],
   "source": [
    "# Convert sequence of nucleotides to amino acids using codon table lookup\n",
    "# Example\n",
    "utils.convert_to_amino(\"AAATGCGGCGTA\")"
   ]
  },
  {
   "cell_type": "code",
   "execution_count": 12,
   "id": "435aff90",
   "metadata": {},
   "outputs": [
    {
     "name": "stdout",
     "output_type": "stream",
     "text": [
      "VLTSKAVLRS-----------PSRAEVRTLNSL----L-----E------KDLQVR----RE----------KTGSGACIWRAETAGGTPARRRWSSCRRPCPADSLNLWPAS\n",
      "--pSgA--aSAC_EILHQGCAPS-----TtqSLWIWTLDFTAGERSASHQtD-QqRGHAPREQRHQAGLSRA--GS-----RA-----TP--------------D--------\n",
      "-13.799999999999999\n"
     ]
    }
   ],
   "source": [
    "# Your code here\n",
    "amino_human = utils.convert_to_amino(human_oca2)\n",
    "amino_mouse = utils.convert_to_amino(mouse_oca2)\n",
    "affG_2 = showAlignmentG(amino_human, amino_mouse, affineGap, simpleMatch)\n"
   ]
  },
  {
   "cell_type": "markdown",
   "id": "0bab742f",
   "metadata": {},
   "source": [
    "## Part 2: Alignment with Amino-Acids"
   ]
  },
  {
   "cell_type": "markdown",
   "id": "cc65ebee",
   "metadata": {},
   "source": [
    "\n",
    "The PAM<em>n</em> matrix (to be covered in [Class 6](https://computingbiology.github.io/class6/)) represents the likelihood of the occurrence of each tranformation during a time period where there are _n_ total mutation events per 100 amino acids."
   ]
  },
  {
   "cell_type": "markdown",
   "id": "3e6a39ad",
   "metadata": {},
   "source": [
    "<div class=\"alert alert-success\">\n",
    "\n",
    "**Problem 2 (a)** What would a negative value of an entry in a PAM 1 matrix $M$ indicate? Explain in terms of evolution and functionality of the proteins. Note that $M_{ij} = log(\\frac{q_{ij}}{p_ip_j})$ where $q_{ij}$ indicates the frequency of amino acids $i$ and $j$ observed to align in related sequences, and $p_i$ and $p_j$ represent the frequencies of occurrence of $i$ and $j$.\n",
    "</div>"
   ]
  },
  {
   "cell_type": "markdown",
   "id": "890e7576",
   "metadata": {},
   "source": [
    "The negative value of an entry in PAM 1 matrix M means that the alignment is more likely due to chance than it is for Point Accepted Mutation."
   ]
  },
  {
   "cell_type": "markdown",
   "id": "4a5181c1",
   "metadata": {},
   "source": [
    "<div class=\"alert alert-success\">\n",
    "    \n",
    "**Problem 2 (b).** The BLOSUM<em>x</em> matices are created by clustering sequences with more than <em>x</em>% similarity into one single sequence and comparing sequences with more than <em>x</em>% divergence. Therefore, BLOSUM matrices are based on local alignments. Which of BLOSUM 50 and 60 contain more evoluationary divergence? \n",
    "    \n",
    "</div>"
   ]
  },
  {
   "cell_type": "markdown",
   "id": "f2b419af",
   "metadata": {},
   "source": [
    "BLOSUM 50 contains more evolution divergance because BLOSUM 50 has at least 50% similarity when the two sequences are aligned."
   ]
  },
  {
   "cell_type": "markdown",
   "id": "6c5931ee",
   "metadata": {},
   "source": [
    "<div class=\"alert alert-success\">\n",
    "\n",
    "**Problem 2 (c).** Use the BLOSUM62 matrix as your scoring function to perform global alignment on the amino-acid sequences using `linearGap` (default parameters).\n",
    "</div>"
   ]
  },
  {
   "cell_type": "code",
   "execution_count": 19,
   "id": "71ad4566",
   "metadata": {},
   "outputs": [
    {
     "name": "stdout",
     "output_type": "stream",
     "text": [
      "-3.0\n"
     ]
    }
   ],
   "source": [
    "blosum_matrix = bl.BLOSUM(62)\n"
   ]
  },
  {
   "cell_type": "code",
   "execution_count": 14,
   "id": "6dc9a86c",
   "metadata": {},
   "outputs": [],
   "source": [
    "# Your code here\n",
    "-13.7\n"
   ]
  },
  {
   "cell_type": "markdown",
   "id": "1d8bd840",
   "metadata": {},
   "source": [
    "_Type your answer here_"
   ]
  },
  {
   "cell_type": "markdown",
   "id": "6cc2b3fa",
   "metadata": {},
   "source": [
    "<div class=\"alert alert-success\">\n",
    "\n",
    "**Problem 2 (d).** How do your results for Problem 2c differ from the earlier ones of Problem 1a (with `linearGap`)? Which one would you say is more biologically plausible?\n",
    "</div>"
   ]
  },
  {
   "cell_type": "markdown",
   "id": "b2443934",
   "metadata": {},
   "source": [
    "Some nucleotide changes dont affect the amino acid becuase they do not change them or their functions. For example TTT and TTC would have a penalty in the nucleotide alignment but not in the amino acid alignment because both of them code to Phenylalanine. "
   ]
  },
  {
   "cell_type": "markdown",
   "id": "320d6d2d",
   "metadata": {},
   "source": [
    "<div class=\"alert alert-success\">\n",
    "\n",
    "**Problem 2 (e).** We discussed in class that the PAM matrices follow the Markov property and a mismatch at any site depends only on the amino acid at that site and the transition probability. Is this a suitable representation of evolution? Think about if replacements are equaly likely to occur over entire sequences. It may help to consider the difference between PAM and BLOSUM matrices.\n",
    "</div>"
   ]
  },
  {
   "cell_type": "markdown",
   "id": "a42a6ca1",
   "metadata": {},
   "source": [
    "Yes, because amino acid is what actually changes the proteins not the nucleotide. Replacements are not equally likely to occur over entire sequences because areas with W are not likely to mutate inot any other location. Similarly, the start and end codon should not change otherwise it will ruin the entire protein."
   ]
  },
  {
   "cell_type": "markdown",
   "id": "b69d795e",
   "metadata": {},
   "source": [
    "## Part 3: Local Sequence Alignment\n"
   ]
  },
  {
   "cell_type": "markdown",
   "id": "f570a098",
   "metadata": {},
   "source": [
    "<div class=\"alert alert-success\">\n",
    "    \n",
    "<b>Problem 3 (a).</b> Implement local alignment (for both the normal and affine-gap penalties) using the Smith-Waterman algorithm. Feel free to re-use and modify the given Needleman–Wunsch algorithm. \n",
    "</div>"
   ]
  },
  {
   "cell_type": "code",
   "execution_count": 15,
   "id": "ce5982e4",
   "metadata": {},
   "outputs": [],
   "source": [
    "def showAlignmentLocal(s1, s2, gapPenalty, match):\n",
    "    # Although it is often useful to return all high scoring local alignments for an input pair, \n",
    "    # it is sufficient if your algorithm just returns the single highest-scoring local alignment \n",
    "    # (as shown in the examples below).\n",
    "    \n",
    "    # Your code here (implement)\n",
    "    pass"
   ]
  },
  {
   "cell_type": "markdown",
   "id": "6646911f",
   "metadata": {},
   "source": [
    "We've included some assert statements that can help you check the correctness of your algorithm. As with any algorithm, correctness on these test inputs does not guarantee algorithmic correcntess, but can be useful to debug."
   ]
  },
  {
   "cell_type": "code",
   "execution_count": 16,
   "id": "30483544",
   "metadata": {},
   "outputs": [],
   "source": [
    "# Example expected output\n",
    "# Taken from https://en.wikipedia.org/wiki/Smith–Waterman_algorithm)\n",
    "r = showAlignmentLocal(\"GGTTGACTA\", \"TGTTACGG\", linearGap, simpleMatch)"
   ]
  },
  {
   "cell_type": "code",
   "execution_count": 17,
   "id": "618d1e0b",
   "metadata": {},
   "outputs": [
    {
     "ename": "TypeError",
     "evalue": "'NoneType' object is not subscriptable",
     "output_type": "error",
     "traceback": [
      "\u001b[1;31m---------------------------------------------------------------------------\u001b[0m",
      "\u001b[1;31mTypeError\u001b[0m                                 Traceback (most recent call last)",
      "Input \u001b[1;32mIn [17]\u001b[0m, in \u001b[0;36m<cell line: 3>\u001b[1;34m()\u001b[0m\n\u001b[0;32m      1\u001b[0m \u001b[38;5;66;03m# First assert\u001b[39;00m\n\u001b[0;32m      2\u001b[0m r \u001b[38;5;241m=\u001b[39m showAlignmentLocal(\u001b[38;5;124m\"\u001b[39m\u001b[38;5;124mGGTTGACTA\u001b[39m\u001b[38;5;124m\"\u001b[39m, \u001b[38;5;124m\"\u001b[39m\u001b[38;5;124mTGTTACGG\u001b[39m\u001b[38;5;124m\"\u001b[39m, linearGap, simpleMatch)\n\u001b[1;32m----> 3\u001b[0m \u001b[38;5;28;01massert\u001b[39;00m (\u001b[43mr\u001b[49m\u001b[43m[\u001b[49m\u001b[38;5;241;43m1\u001b[39;49m\u001b[43m]\u001b[49m[\u001b[38;5;241m2\u001b[39m] \u001b[38;5;241m==\u001b[39m \u001b[38;5;241m4\u001b[39m \u001b[38;5;129;01mand\u001b[39;00m \u001b[38;5;124m\"\u001b[39m\u001b[38;5;124mGTTGAC\u001b[39m\u001b[38;5;124m\"\u001b[39m \u001b[38;5;129;01min\u001b[39;00m r[\u001b[38;5;241m1\u001b[39m] \u001b[38;5;129;01mand\u001b[39;00m \u001b[38;5;124m\"\u001b[39m\u001b[38;5;124mGTT-AC\u001b[39m\u001b[38;5;124m\"\u001b[39m \u001b[38;5;129;01min\u001b[39;00m r[\u001b[38;5;241m1\u001b[39m])\n\u001b[0;32m      5\u001b[0m \u001b[38;5;66;03m# Second assert\u001b[39;00m\n\u001b[0;32m      6\u001b[0m r \u001b[38;5;241m=\u001b[39m showAlignmentLocal(\u001b[38;5;124m\"\u001b[39m\u001b[38;5;124mGGACTTAAATAGA\u001b[39m\u001b[38;5;124m\"\u001b[39m, \u001b[38;5;124m\"\u001b[39m\u001b[38;5;124mTGTTGGTGATCCACGTGG\u001b[39m\u001b[38;5;124m\"\u001b[39m, linearGap, simpleMatch)\n",
      "\u001b[1;31mTypeError\u001b[0m: 'NoneType' object is not subscriptable"
     ]
    }
   ],
   "source": [
    "# First assert\n",
    "r = showAlignmentLocal(\"GGTTGACTA\", \"TGTTACGG\", linearGap, simpleMatch)\n",
    "assert (r[1][2] == 4 and \"GTTGAC\" in r[1] and \"GTT-AC\" in r[1])\n",
    "\n",
    "# Second assert\n",
    "r = showAlignmentLocal(\"GGACTTAAATAGA\", \"TGTTGGTGATCCACGTGG\", linearGap, simpleMatch)\n",
    "assert (r[1][2] == 2 and \"GG\" == r[1][0] and \"GG\" == r[1][1])\n",
    "\n",
    "# Third assert\n",
    "r = showAlignmentLocal(\"TTGA\", \"GGCC\", linearGap, simpleMatch)\n",
    "assert (r[1][2] == 1 and \"G\" == r[1][0] and \"G\" == r[1][1])\n",
    "\n",
    "# Fourth assert\n",
    "r = showAlignmentLocal(\"TACGGGCCCGCTAC\", \"TAGCCCTATCGGTCA\", linearGap, simpleMatch)\n",
    "assert (r[1][2] == 4 and \"TA-CGG\" in r[1] and \"TATCGG\" in r[1])"
   ]
  },
  {
   "cell_type": "markdown",
   "id": "6ab442b0",
   "metadata": {},
   "source": [
    "<div class=\"alert alert-success\">\n",
    "    \n",
    "<b>Problem 3 (b).</b> Align the provided hemoglobin genes for:\n",
    "    <ol>\n",
    "        <li>`polar bears` & `black bears`,</li>\n",
    "        <li>`humans` & `chimps`,</li>\n",
    "        <li>`polar bears` & `humans`, and</li>\n",
    "        <li>`black bears` & `chimps`.</li>\n",
    "    </ol>\n",
    "\n",
    "Use `linearGap`.\n",
    "    \n",
    "Take note of the scores you get. What do you notice?\n",
    "</div>"
   ]
  },
  {
   "cell_type": "code",
   "execution_count": 24,
   "id": "471287a2",
   "metadata": {},
   "outputs": [],
   "source": [
    "polar_bear, black_bear, human, chimp = utils.get_hemoglobin_sequences()"
   ]
  },
  {
   "cell_type": "code",
   "execution_count": 28,
   "id": "2514cc61",
   "metadata": {},
   "outputs": [
    {
     "name": "stdout",
     "output_type": "stream",
     "text": [
      "polar\n",
      " GGGCATAAATGCTGGCGCACTCCCCGCCCCGCACATTTCTGGTCCTCACAGACTCAGAAAGAAGCCACCATGGTGCTGTCTCCCGCCGACAAGAGCAACGTCAAGGCCACCTGGGATAAGATCGGCAGCCACGCTGGCGAGTATGGCGGCGAGGCTCTGGAGAGGTGAGGACCCAACCTTCCCCTGTCGGGGTCAGGGCTCCGCCACCCCCCCGGCCCTTGTCCTCCACCGCCCACCTAACCCCGGCTCACCCACGCCTTCCTCCCGCAGGACCTTCGCGTCCTTCCCCACCACCAAGACCTACTTCCCCCACTTCGACCTGAGCCCTGGCTCCGCCCAGGTCAAGGCCCACGGCAAGAAGGTGGCCGACGCCCTGACCACCGCCGCAGGCCACCTGGACGACCTGCCGGGCGCCCTGTCCGCTCTGAGCGACCTGCACGCGCACAAGCTGCGAGTGGACCCGGTCAACTTCAAGGTGAGCACGCGGGCCGGCGCGGAGAGACCTGGGGCAGGAGGGCGCAGCGAACCCTGCTAGCAGGACGGGGAGTCCCTTGGGCTGCGGAAGGTGGAGCGCGGGCGGGCGGCCGCGTCCCCCGACGGCCCCTGACGTCCCCTGTCTCCGCAGTTCCTGAGCCACTGCCTGCTGGTGACCCTGGCCAGCCACCACCCCGCGGAGTTCACCCCTGCCGTCCACGCCTCCCTGGACAAGTTCTTCAGCGCCGTGAGCACCGTGCTCACCTCCAAATACCGTTAAGCTGGAGCCGCGCGACCCTCCCGCTCCCGGCCTGGGGCCTCTTGCGCTCCACGCGCCTGAACTTCCCGATCTTTGAATAAAGTCTGAGTGGGCTGCA\n",
      "black_bear\n",
      " AAATGCTGGCGCACTCCCCGCCCCGCACATTTCTGGTCCTCACAGACTCAGAAAGAAGCCACCATGGTGCTGTCTCCCGCCGACAAGAGCAACGTCAAGGCCACCTGGGATAAGATTGGCAGCCACGCTGGCGAGTATGGCGGCGAGGCTCTGGAGAGGACCTTCGCGTCCTTCCCCACCACCAAGACCTACTTCCCCCACTTCGACCTGAGCCCTGGCTCCGCCCAGGTCAAGGCCCACGGCAAGAAGGTGGCCGACGCCCTGACCACCGCCGCGGGCCACCTGGACGACCTGCCGGGCGCCCTGTCCGCTCTGAGCGACCTGCACGCGCACAAGCTGCGAGTGGACCCGGTCAACTTCAAGTTCCTGAGCCACTGCCTGCTGGTGACCCTGGCCAGCCACCACCCCGCGGAGTTCACCCCTGCCGTCCACGCCTCCCTGGACAAGTTCTTCAGCGCCGTGAGCACCGTGCTCACCTCCAAATACCGTTAAGCTGGAGCCGCGCGACCCTCCCGCTCCCGGCCTGGGGCCTCTTGCGCTCCGCGCACCTGAACTTCCCGATCTTTGAATAAAGTCTGAGTGGGCTGCA\n",
      "human\n",
      " ACTCTTCTGGTCCCCACAGACTCAGAGAGAACCCACCATGGTGCTGTCTCCTGCCGACAAGACCAACGTCAAGGCCGCCTGGGGTAAGGTCGGCGCGCACGCTGGCGAGTATGGTGCGGAGGCCCTGGAGAGGTGAGGCTCCCTCCCCTGCTCCGACCCGGGCTCCTCGCCCGCCCGGACCCACAGGCCACCCTCAACCGTCCTGGCCCCGGACCCAAACCCCACCCCTCACTCTGCTTCTCCCCGCAGGATGTTCCTGTCCTTCCCCACCACCAAGACCTACTTCCCGCACTTCGACCTGAGCCACGGCTCTGCCCAGGTTAAGGGCCACGGCAAGAAGGTGGCCGACGCGCTGACCAACGCCGTGGCGCACGTGGACGACATGCCCAACGCGCTGTCCGCCCTGAGCGACCTGCACGCGCACAAGCTTCGGGTGGACCCGGTCAACTTCAAGGTGAGCGGCGGGCCGGGAGCGATCTGGGTCGAGGGGCGAGATGGCGCCTTCCTCGCAGGGCAGAGGATCACGCGGGTTGCGGGAGGTGTAGCGCAGGCGGCGGCTGCGGGCCTGGGCCCTCGGCCCCACTGACCCTCTTCTCTGCACAGCTCCTAAGCCACTGCCTGCTGGTGACCCTGGCCGCCCACCTCCCCGCCGAGTTCACCCCTGCGGTGCACGCCTCCCTGGACAAGTTCCTGGCTTCTGTGAGCACCGTGCTGACCTCCAAATACCGTTAAGCTGGAGCCTCGGTGGCCATGCTTCTTGCCCCTTGGGCCTCCCCCCAGCCCCTCCTCCCCTTCCTGCACCCGTACCCCCGTGGTCTTTGAATAAAGTCTGAGTGGGCGGCA\n",
      "chimp\n",
      " ACTCTTCTGGTCCCCACAGACTCAGAAAGAACCCACCATGGTGCTGTCTCCTGCCGACAAGACCAACGTCAAGGCCGCCTGGGGTAAGGTCGGCGCGCACGCTGGCGAGTATGGTGCGGAGGCCCTGGAGAGGTGAGGCTCCCTCCCCTGCTCCGACCCGGGCTCCTCGCCCGCCCTGACCCACAGGCCACCCTCAGCGGTCCTGGCCCCGGCCCCAAACCCCACCCCTCACTCTGCTTCTCCCCGCAGGATGTTCCTGTCCTTCCCCACCACCAAGACCTACTTCCCCCACTTCGACCTGAGCCACGGCTCTGCCCAGGTTAAGGGCCACGGCAAGAAGGTGGCCGACGCGCTGACCAACGCCGTGGCGCACGTGGACGACATGCCCAACGCGCTGTCCGCCCTGAGCGACCTGCACGCGCACAAGCTTCGGGTGGACCCGGTCAACTTCAAGGTGAGCGGCGGGCCGGGAGCGATCTGGGTCGAGGGGCGAGATGGCGCCTTCCTCGCAGGGCAGAGGATCACGCGAGTTGCGGGAGGTGTAGCGCAGGCGGCGGCTGCGGGCCTGGGCTCCACTGACCCTCTTCTCTGCACAGCTCCTAAGCCACTGCCTGCTGGTGACCCTGGCCGCCCACCTCCCCGCCGAGTTCACCCCTGCGGTGCACGCCTCCCTGGACAAGTTCCTGGCTTCTGTGAGCACCGTGCTGACCTCCAAATACCGTTAAGCTGGAGCCTCGGTGGCCATGCTTCTTGCCCCTTGGGCCTCTCGCCAGGCCCTCCTCTCCTTCCTGCACCTGTACCCCCCCTGGTCTTTGAATAAAGTCTGAGTGGGCGGC\n"
     ]
    }
   ],
   "source": [
    "# Your code here\n",
    "print(\"polar\\n\", polar_bear)\n",
    "print(\"black_bear\\n\",black_bear)\n",
    "print(\"human\\n\", human)\n",
    "print(\"chimp\\n\", chimp)"
   ]
  },
  {
   "cell_type": "markdown",
   "id": "1d2cc5d6",
   "metadata": {},
   "source": [
    "_Type your answer here_"
   ]
  },
  {
   "cell_type": "markdown",
   "id": "9c1594df",
   "metadata": {},
   "source": [
    "<div class=\"alert alert-success\">\n",
    "\n",
    "<b>Problem 3 (c).</b> Use <a href=\"https://blast.ncbi.nlm.nih.gov/\">BLAST</a> for the above pairs of sequences. Carefully inspect the returned results to see if they are similar to the alignments you obtained above.\n",
    "</div>"
   ]
  },
  {
   "cell_type": "markdown",
   "id": "66e45c20",
   "metadata": {},
   "source": [
    "_Type your answer here_"
   ]
  },
  {
   "cell_type": "markdown",
   "id": "ddb994a7",
   "metadata": {},
   "source": [
    "<div class=\"alert alert-success\">\n",
    "\n",
    "<b>Problem 3 (d).</b> Could you run an affine-gap-loss version of your local-alignment algorithm for the given sequences? How much time did BLAST take?\n",
    "Can you think of any optimizations you could make to make the affine-gap-loss version run faster- perhaps utilizing parallel processing or GPUs?\n",
    "</div>"
   ]
  },
  {
   "cell_type": "markdown",
   "id": "425f5e7a",
   "metadata": {},
   "source": [
    "We cannot make affine gap any better but can use parallel processing on the entire 'showAlignment' function."
   ]
  },
  {
   "cell_type": "markdown",
   "id": "cfc84606",
   "metadata": {},
   "source": [
    "## Part 4: Phylogenetic Tree Reconstruction"
   ]
  },
  {
   "cell_type": "markdown",
   "id": "f50b5e8c",
   "metadata": {},
   "source": [
    "For this part, we'll briefly enter a fictional setup where you want to trace the evolution of Pokémon. The data is in the format of a two lists: one each for the sequences themselves, and names of the Pokémons."
   ]
  },
  {
   "cell_type": "markdown",
   "id": "e5e8d453",
   "metadata": {},
   "source": [
    "<div class=\"alert alert-success\">\n",
    "    \n",
    "**Problem 4 (a).** Implement an algorithm for Phylogenetic Tree Reconstrution using the neighbor joining algorithm. Color intermediate nodes different from leaf nodes. Use given names as node labels in your visualization.\n",
    "    \n",
    "For computing the distances matrix, use affine-based gap-loss in your alignment score computations.\n",
    "    \n",
    "</div>"
   ]
  },
  {
   "cell_type": "markdown",
   "id": "e0994ec6",
   "metadata": {},
   "source": [
    "You can either label intermediate nodes in the Phylogenetic tree such that they start with \"intermediate_\" and use the given functions below, or use your own nomenclature/way of handling those node, and modify the given helper functions accordingly."
   ]
  },
  {
   "cell_type": "code",
   "execution_count": 12,
   "id": "1e987cc0",
   "metadata": {},
   "outputs": [
    {
     "name": "stdout",
     "output_type": "stream",
     "text": [
      "[[0. 8. 8. 8. 8. 8. 8. 8. 8. 8. 8. 8. 8. 8. 8.]\n",
      " [1. 0. 8. 8. 8. 8. 8. 8. 8. 8. 8. 8. 8. 8. 8.]\n",
      " [1. 1. 0. 8. 8. 8. 8. 8. 8. 8. 8. 8. 8. 8. 8.]\n",
      " [1. 1. 1. 0. 8. 8. 8. 8. 8. 8. 8. 8. 8. 8. 8.]\n",
      " [1. 1. 1. 1. 0. 8. 8. 8. 8. 8. 8. 8. 8. 8. 8.]\n",
      " [1. 1. 1. 1. 1. 0. 8. 8. 8. 8. 8. 8. 8. 8. 8.]\n",
      " [1. 1. 1. 1. 1. 1. 0. 8. 8. 8. 8. 8. 8. 8. 8.]\n",
      " [1. 1. 1. 1. 1. 1. 1. 0. 8. 8. 8. 8. 8. 8. 8.]\n",
      " [1. 1. 1. 1. 1. 1. 1. 1. 0. 8. 8. 8. 8. 8. 8.]\n",
      " [1. 1. 1. 1. 1. 1. 1. 1. 1. 0. 8. 8. 8. 8. 8.]\n",
      " [1. 1. 1. 1. 1. 1. 1. 1. 1. 1. 0. 8. 8. 8. 8.]\n",
      " [1. 1. 1. 1. 1. 1. 1. 1. 1. 1. 1. 0. 8. 8. 8.]\n",
      " [1. 1. 1. 1. 1. 1. 1. 1. 1. 1. 1. 1. 0. 8. 8.]\n",
      " [1. 1. 1. 1. 1. 1. 1. 1. 1. 1. 1. 1. 1. 0. 8.]\n",
      " [1. 1. 1. 1. 1. 1. 1. 1. 1. 1. 1. 1. 1. 1. 0.]]\n"
     ]
    }
   ],
   "source": [
    "# Your code here\n",
    "import numpy\n",
    "def create_matrix(seqs):\n",
    "    matrix = numpy.zeros((len(seqs), len(seqs)))\n",
    "    for i in range(len(seqs)):\n",
    "        for j in range(len(seqs)):\n",
    "            if i == j:\n",
    "                matrix[i][j] = 0\n",
    "            else:\n",
    "                #possibly change the alignment type just a placeholder rn\n",
    "                matrix[i][j] = showAlignmentLocal(seqs[i],seqs[j], affineGap, simpleMatch)\n",
    "                matrix[j][i] = matrix[i][j]\n",
    "    print(matrix)\n",
    "                \n",
    "create_matrix(sequences)"
   ]
  },
  {
   "cell_type": "markdown",
   "id": "b4a2e39f",
   "metadata": {},
   "source": [
    "We've provided a helper function to plot a given Phylogenetic tree"
   ]
  },
  {
   "cell_type": "code",
   "execution_count": null,
   "id": "1f409397",
   "metadata": {},
   "outputs": [],
   "source": [
    "def construct_alignment(dist, names):\n",
    "    # Your code here (implement)\n",
    "    dic = {}\n",
    "    new_matrix = numpy.zeros((len(seqs), len(seqs)))\n",
    "    n = len(dist[0])\n",
    "    count = 0\n",
    "    for name in names:\n",
    "        dic[name] = count\n",
    "        count += 1\n",
    "    for seq1 in names:\n",
    "        for seq2 in names:\n",
    "            if seq1 != seq2:\n",
    "                sum_seq1 = sum(dist[dic[seq1]])\n",
    "                sum_seq2 = sum(dist[dic[seq2]])\n",
    "                eq1 = (n-2)*(dist[[dic[seq1]][dic[seq2]]]) - sum_seq1 - sum_seq2\n",
    "                new_matrix[dic[seq1]][dic[seq2]] = eq1\n",
    "                new_matrix[dic[seq2]][dic[seq1]] = eq1\n",
    "                \n",
    "    minElement = numpy.amin(new_matrix)\n",
    "    result = numpy.where(new_matrix == minElement)\n",
    "    eq2_1 = (0.5* (dist[[dic[seq1]][dic[seq2]]]))+((1/(2*(n-2)))*(sum(dist[dic[seq1]])-sum(dist[dic[seq2]])))\n",
    "    eq2_2 = (dist[[dic[seq1]][dic[seq2]]]) - eq2_1\n",
    "    # for each one that is not the ones i chose.\n",
    "        # (seq1,other + seq2,other - seq1,seq2)/2 \n",
    "        # update graph\n",
    "        # put in dist, names again\n",
    "    pass"
   ]
  },
  {
   "cell_type": "code",
   "execution_count": null,
   "id": "a3752ac6",
   "metadata": {},
   "outputs": [],
   "source": [
    "def draw_graph_nice(G):\n",
    "    \"\"\"\n",
    "        Helper function to plot a given Phylogenetic tree.\n",
    "        Assumes intermediate node names start with 'intermediate_'\n",
    "    \"\"\"\n",
    "    nodes = list(G.nodes)\n",
    "    # Plot intermediate nodes smaller\n",
    "    sizes = [10 if \"intermediate_\" in x else 2000 for x in nodes]\n",
    "    labels = {}    \n",
    "    for node in nodes:\n",
    "        if not node.startswith(\"intermediate_\"):\n",
    "            labels[node] = node\n",
    "    fig, ax = plt.subplots(figsize=(15,15))\n",
    "    nx.draw_planar(G, node_size=sizes, with_labels=True, node_color = \"#ADD8E6\")"
   ]
  },
  {
   "cell_type": "markdown",
   "id": "2d212c1f",
   "metadata": {},
   "source": [
    "Here's the visualization for the given example on Wikipedia to get a sense of what the output should look like. We use `networkx` for creating and managing the graphs."
   ]
  },
  {
   "cell_type": "code",
   "execution_count": null,
   "id": "ff7e2b2a",
   "metadata": {},
   "outputs": [],
   "source": [
    "# Wikipedia example: https://en.wikipedia.org/wiki/Neighbor_joining\n",
    "distances = np.array([\n",
    "    [0, 5, 9, 9, 8],\n",
    "    [5, 0, 10, 10, 9],\n",
    "    [9, 10, 0, 8, 7],\n",
    "    [9, 10, 8, 0, 3],\n",
    "    [8, 9, 7, 3, 0]\n",
    "], dtype=float)\n",
    "\n",
    "seq_names = [\"a\", \"b\", \"c\", \"d\", \"e\"]\n",
    "G = construct_alignment(distances, seq_names)"
   ]
  },
  {
   "cell_type": "code",
   "execution_count": null,
   "id": "d10e7d5f",
   "metadata": {},
   "outputs": [],
   "source": [
    "draw_graph_nice(G)"
   ]
  },
  {
   "cell_type": "code",
   "execution_count": 5,
   "id": "3fbb8e18",
   "metadata": {},
   "outputs": [
    {
     "name": "stdout",
     "output_type": "stream",
     "text": [
      "['TGCACTCTCAGATCCTCATCTCGTTTCCATAGTTC', 'GGCGCTTCGTTCGCGTAAAGTCCCCCACCTACCGG', 'ACAATATCTCGGAACCACCACAGTGCTCTAGATAC', 'TTGCGTGGCAGAACCTAACCCGACAGTAGGCACTA', 'TCAGCGTCCGCTAGGCTAAGGCGTGAAGAGTAGCC', 'TCCGACCGACTAGCTTCGTACACTGCCAACCGCAT', 'TGACGCATGCTAATGCCCCAAAGTCTCGACAAGTC', 'TTGACGTAGATCCCCGTTGCATCGACAAGCATCAA', 'AGTTCAGGGATTGTAATTCGTCTGTAGAGTTGGGC', 'ACAATGAATGGTTGAATTGCCATACACGCGCTTAA', 'TGTGGTTCCTACCTGTCGCGTCTTTAAGGAAAGTC', 'TGTGTTGTAGCCAAAGCCGAATAATCTAATTAACG', 'TACAACCAAGCAAGCTGCAGGTGTAACGCGGTTGA', 'AGCAACTAGGTAATAAATTGCATGCAGGGCGTTCC', 'CACGCATGTTATTATGGCCCTCTATTGTATGCCCT']\n",
      "['Ho-Oh', 'Toucannon', 'Stantler', 'Drapion', 'Vaporeon', 'Grumpig', 'Beheeyem', 'Snorlax', 'Doduo', 'Shaymin', 'Grovyle', 'Sawsbuck', 'Dunsparce', 'Slurpuff', 'Raichu']\n"
     ]
    }
   ],
   "source": [
    "# Get sequences\n",
    "sequences, seq_names = utils.get_sequences_for_ancestry()\n",
    "print(sequences)\n",
    "print(seq_names)"
   ]
  },
  {
   "cell_type": "code",
   "execution_count": null,
   "id": "1dd5f223",
   "metadata": {},
   "outputs": [],
   "source": [
    "# Your code here"
   ]
  },
  {
   "cell_type": "markdown",
   "id": "b415087a",
   "metadata": {},
   "source": [
    "<div class=\"alert alert-success\">\n",
    "    \n",
    "**Problem 4 (b).** Given $n$ sequences each of roughly the same length $m$, what would the time complexity be for constructing such a phylogenetic tree? Can you think of any algorithms or heuristics that might make the process faster? \n",
    "    \n",
    "</div>"
   ]
  },
  {
   "cell_type": "markdown",
   "id": "6b06935b",
   "metadata": {},
   "source": [
    "_Type your answer here_"
   ]
  },
  {
   "cell_type": "markdown",
   "id": "2b89c887",
   "metadata": {},
   "source": [
    "<div class=\"alert alert-success\">\n",
    "\n",
    "**Problem 4 (c).** Assume a direct correlation between the distance between any two nodes and the number of years (in millions) between their evolution. Assuming `Grumpig` was the first Pokémon to evolve, when did life first come to be in the fictional scenario?\n",
    "</div>"
   ]
  },
  {
   "cell_type": "markdown",
   "id": "df00802e",
   "metadata": {},
   "source": [
    "<div class=\"alert alert-warning\">\n",
    "\n",
    "For this part, feel free to use any of `networkx`'s in-built functions (or any graph-specific library you may have chosen for Problem 4).\n",
    "</div>"
   ]
  },
  {
   "cell_type": "code",
   "execution_count": null,
   "id": "73cb72f1",
   "metadata": {},
   "outputs": [],
   "source": [
    "# Your code here"
   ]
  },
  {
   "cell_type": "code",
   "execution_count": null,
   "id": "01f00501",
   "metadata": {},
   "outputs": [],
   "source": [
    "how_long_ago = \"???\" # Replace with your answer\n",
    "print(f\"Life evolved {how_long_ago} million years ago in the Pokémon world\")"
   ]
  },
  {
   "cell_type": "markdown",
   "id": "eae6a1b2",
   "metadata": {},
   "source": [
    "One way to test the robustness of such a tree reconstruction algorithm is to consider collection of nodes independently and see if the recontructed sub-trees match the bigger tree.\n",
    "\n",
    "<div class=\"alert alert-success\">\n",
    "    \n",
    "**Problem 4 (d).** Find an  edge between intermediate nodes with the largest weight in the phylogenetic tree and remove that edge- this will produce two disjoint cluster of nodes. Re-run your tree reconstruction algorithm on these two sets of Pokémons. Do your reconstructed tree match the larger phylogenetic tree?\n",
    "</div>"
   ]
  },
  {
   "cell_type": "markdown",
   "id": "9a97406c",
   "metadata": {},
   "source": [
    "<div class=\"alert alert-warning\">\n",
    "\n",
    "For this part, feel free to use any of `networkx`'s in-built functions (or any graph-specific library you may have chosen for Problem 4).\n",
    "</div>"
   ]
  },
  {
   "cell_type": "code",
   "execution_count": null,
   "id": "0384f42b",
   "metadata": {},
   "outputs": [],
   "source": [
    "# Your code here"
   ]
  },
  {
   "cell_type": "markdown",
   "id": "d9d2fb69",
   "metadata": {},
   "source": [
    "_Type your answer here_"
   ]
  },
  {
   "cell_type": "markdown",
   "id": "8c1366de",
   "metadata": {},
   "source": [
    "<div class=\"alert alert-success\">\n",
    "\n",
    "**Problem 4 (d).** Can you inspect the matrix of distances between the Pokémons and predict whether the reconstructed trees would always be unique? Why/why not?\n",
    "</div>"
   ]
  },
  {
   "cell_type": "markdown",
   "id": "ade5be4c",
   "metadata": {},
   "source": [
    "_Type your answer here_"
   ]
  },
  {
   "cell_type": "markdown",
   "id": "ff9a98ad",
   "metadata": {},
   "source": [
    "## Part 5: Tracing Evolution"
   ]
  },
  {
   "cell_type": "markdown",
   "id": "bd2558e0",
   "metadata": {},
   "source": [
    "<div class=\"alert alert-warning\">\n",
    "    This problem is a \"Challenge Problem\". This means it is a problem of unknown difficulty that might be quite challenging (unlike the earlier problems, we don't have a reference solution for this one, or a clear idea how hard it might be). We do hope all students will at least attempt this and that more ambitious students will work hard to solve it and learn interesting things by the attempt (whether or not it is successful), but not get frustrated if you can't get to the desired answer.  As a \"Challenge Problem\" it means that you shouldn't be worried if you are not able to solve this, though, and you can get full expected credit on this assignment without answering it.\n",
    "</div>\n",
    "\n",
    "\n",
    "Now that we can construct Phylogenetic trees using sequence alignment, we can attempt to construct these trees for different organisms and trace their evolution through time. You're given reads processed from a FASTA file for Hemoglobin Beta Proteins, which can be used to then trace evolution based on how similar their sequences are across organisms from different kingdoms. Each record has the following relevant information in Tuple format:\n",
    "\n",
    "`((uniprot identifier, full name, shortened name, group), (sequence))`\n",
    "\n",
    "As you may notice, running our nearest-neighbor reconstruction algorithm on this data will give a Phylogenetic tree that does not fully correspond to what we know about the evolution of these species."
   ]
  },
  {
   "cell_type": "markdown",
   "id": "33a44253",
   "metadata": {},
   "source": [
    "<div class=\"alert alert-success\">\n",
    "    \n",
    "**Problem 8 (Challenge).** Construct a Phylogenetic Tree using the given sequences. Implement and use any tree-reconstruction method of your choice, and see if it works better than the nearest-neighbor method with a linear-gap penalty.\n",
    "    \n",
    "For visualization, use the short name to display in the evolution tree.\n",
    "    \n",
    "</div>\n",
    "    \n",
    "This is an open-ended question, and is inspired by https://www.mimuw.edu.pl/~lukaskoz/teaching/sad2/lab6/readme.html. You are free to use any approach to deal with the issue. Make sure you provide your code, along with any assumptions you may have."
   ]
  },
  {
   "cell_type": "code",
   "execution_count": null,
   "id": "9c177e6d",
   "metadata": {},
   "outputs": [],
   "source": [
    "sequences = utils.get_sequences_for_tree()\n",
    "print(sequences['A']['W'])"
   ]
  },
  {
   "cell_type": "code",
   "execution_count": null,
   "id": "4e76d597",
   "metadata": {},
   "outputs": [],
   "source": [
    "# Your code here"
   ]
  },
  {
   "cell_type": "markdown",
   "id": "21e7e183",
   "metadata": {},
   "source": [
    "_Write a description of your algorithm, and things you learned from working on this here._"
   ]
  },
  {
   "cell_type": "markdown",
   "id": "4c5f8d4f",
   "metadata": {},
   "source": [
    "_Type your answer here_"
   ]
  },
  {
   "cell_type": "markdown",
   "id": "75704693",
   "metadata": {},
   "source": [
    "<div class=\"alert alert-success\">\n",
    "    \n",
    "Is this (using Hemoglobin proteins) the best way to trace and visualize evolution? Why do you think it is useful, and what could the possible downsides of this be?\n",
    "    \n",
    "</div>"
   ]
  },
  {
   "cell_type": "markdown",
   "id": "0f94f29b",
   "metadata": {},
   "source": [
    "_Type your answer here_"
   ]
  },
  {
   "cell_type": "markdown",
   "id": "aaa4e1dd",
   "metadata": {},
   "source": [
    "   <div class=\"alert alert-block alert-danger\">\n",
    "    <center>\n",
    "      \n",
    "**End of Project 2!**\n",
    "        \n",
    "Remember to follow the submission directions above to submit your assignment.\n",
    "    \n",
    " </center>\n",
    " </div>"
   ]
  }
 ],
 "metadata": {
  "kernelspec": {
   "display_name": "Python 3 (ipykernel)",
   "language": "python",
   "name": "python3"
  },
  "language_info": {
   "codemirror_mode": {
    "name": "ipython",
    "version": 3
   },
   "file_extension": ".py",
   "mimetype": "text/x-python",
   "name": "python",
   "nbconvert_exporter": "python",
   "pygments_lexer": "ipython3",
   "version": "3.9.13"
  }
 },
 "nbformat": 4,
 "nbformat_minor": 5
}
